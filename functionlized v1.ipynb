{
 "cells": [
  {
   "cell_type": "markdown",
   "metadata": {},
   "source": [
    "1. import modules"
   ]
  },
  {
   "cell_type": "code",
   "execution_count": 1,
   "metadata": {},
   "outputs": [],
   "source": [
    "import pandas as pd\n",
    "import datetime\n",
    "import numpy as np"
   ]
  },
  {
   "cell_type": "markdown",
   "metadata": {},
   "source": [
    "2. Read the file"
   ]
  },
  {
   "cell_type": "code",
   "execution_count": null,
   "metadata": {},
   "outputs": [],
   "source": [
    "def read_file(path):\n",
    "    df = pd.read_excel(path, header = None)"
   ]
  },
  {
   "cell_type": "code",
   "execution_count": null,
   "metadata": {},
   "outputs": [],
   "source": [
    "df = read_file(\"/Users/logan/Downloads/NZ_Admin_JOBS.xlsx\")"
   ]
  },
  {
   "cell_type": "markdown",
   "metadata": {},
   "source": [
    "3. Set a variable"
   ]
  },
  {
   "cell_type": "code",
   "execution_count": null,
   "metadata": {},
   "outputs": [],
   "source": [
    "dict_index = {'Admin':5}\n",
    "location_index = 9"
   ]
  },
  {
   "cell_type": "markdown",
   "metadata": {},
   "source": [
    "4. define method"
   ]
  },
  {
   "cell_type": "code",
   "execution_count": null,
   "metadata": {},
   "outputs": [],
   "source": [
    "def deduplication(x):\n",
    "    mid = len(x)//2\n",
    "    if x!='unknown':\n",
    "        return x[:mid+1]\n",
    "    else:\n",
    "        return 'unknown'"
   ]
  },
  {
   "cell_type": "code",
   "execution_count": null,
   "metadata": {},
   "outputs": [],
   "source": [
    "def apply_salary(x):\n",
    "    if 'classification:' in x:\n",
    "        return 'unknown'\n",
    "    else:\n",
    "        return x"
   ]
  },
  {
   "cell_type": "code",
   "execution_count": null,
   "metadata": {},
   "outputs": [],
   "source": [
    "\n",
    "def apply_classification(x):\n",
    "    if 'classification' in x:\n",
    "        return x[15:]\n",
    "    else:\n",
    "        return 'unknown'"
   ]
  },
  {
   "cell_type": "code",
   "execution_count": null,
   "metadata": {},
   "outputs": [],
   "source": [
    "def apply_posted_time(x):\n",
    "    if 'd' in x:\n",
    "        return -int(x[:-1])\n",
    "    if 'm' in x:\n",
    "        return -(int(x[:-1])*30)\n",
    "    else:\n",
    "        return 0"
   ]
  },
  {
   "cell_type": "markdown",
   "metadata": {},
   "source": [
    "5. set clean_area"
   ]
  },
  {
   "cell_type": "code",
   "execution_count": null,
   "metadata": {},
   "outputs": [],
   "source": [
    "def clean_area(df, index):\n",
    "    ##split 'location','area'\n",
    "    df[['location','area']] = df[3].str.split('area:', expand=True)\n",
    "    df['location'] = df['location'].apply(lambda x:x[location_index:])\n",
    "    df['area'].fillna(value='unknown',inplace = True)\n",
    "    df['area'] = df['area'].apply(deduplication)\n",
    "    df['location'].fillna(value='unknown',inplace = True)\n",
    "    df['location'] = df['location'].apply(deduplication)\n",
    "    \n",
    "    ##split 'subclassification','classification'\n",
    "    df[['subclassification','classification']]=df[5].str.split('subClassification:', expand = True)\n",
    "    df['classification'].fillna('unknown', inplace = True)\n",
    "    df['classification'] = df['classification'].apply(deduplication)\n",
    "    \n",
    "    ##split 'posted time','featurned at'\n",
    "    df[['posted time','featurned at']] = df[4].str.split(',', expand = True)[[0,2]]\n",
    "    df['featurned at'].fillna('unknown', inplace = True)\n",
    "    \n",
    "    ##clean 'subclassification','salary'\n",
    "    df['salary'] = df['subclassification'].apply(apply_salary)\n",
    "    df['subclassification']=df['subclassification'].apply(apply_classification)\n",
    "    df[['classification1','classification2','classification3']] = df['subclassification'].str.split('&', expand = True).fillna('unknown')\n",
    "    \n",
    "    ##rename other columns\n",
    "    df.rename(columns ={0:'Job title',1:'website',2:'company name'}, inplace = True )\n",
    "    df['company name'].fillna(df['featurned at'], inplace = True)\n",
    "    \n",
    "    ##clean posted time\n",
    "    df['posted time']=df['posted time'].str.extract('(\\d+[a-z])')\n",
    "    df['posted time'].fillna('unknown', inplace = True)\n",
    "    df['posted time']=df['posted time'].astype('string')\n",
    "    df['posted time']=df['posted time'].apply(apply_posted_time)\n",
    "    \n",
    "    ##clean salary\n",
    "    df['salary']=df[df['salary'].str.contains('\\d', na=False)]['salary'].str.replace(' to ','-',regex=True)\n",
    "    df['salary']=df[df['salary'].str.contains('\\d', na=False)]['salary'].str.replace('\\d\\%','',regex=True)\n",
    "    df['salary']=df[df['salary'].str.contains('\\d', na=False)]['salary'].str.replace(',','',regex=True)\n",
    "    df['salary'].fillna('unknown' ,inplace = True)\n",
    "    df['salary']=df[df['salary'].str.contains('\\d', na=False)]['salary'].str.replace('5k','5000',regex=True)\n",
    "    df['salary']=df[df['salary'].str.contains('\\d', na=False)]['salary'].str.replace('0k','0000',regex=True)\n",
    "    df['salary'].fillna('unknown', inplace=True)\n",
    "    df[['low_salary','high_salary','place_holder']] = df['salary'].str.split('-', expand = True).fillna('unknown')\n",
    "    df['low_salary']=df['low_salary'].str.extract('(\\d+|\\d+\\.\\d+|\\d+ \\d+)')\n",
    "    df['high_salary']=df['high_salary'].str.extract('(\\d+|\\d+\\.\\d+|\\d+ \\d+)')\n",
    "    df['low_salary']=df['low_salary'].fillna('unknown')\n",
    "    df['high_salary']=df['high_salary'].fillna('unknown')\n",
    "    df.loc[df['low_salary']=='unknown', 'low_salary'] = df['high_salary']\n",
    "    df.loc[df['high_salary']== 'unknown','high_salary']= df['low_salary']\n",
    "    \n",
    "    ##set random salary\n",
    "    for r, row in enumerate(df['low_salary'].values):\n",
    "    if row == 'unknown':\n",
    "        df['low_salary'][r] = np.random.randint(45000,75000,size=1)[0]\n",
    "    \n",
    "    for r, row in enumerate(df['high_salary'].values):\n",
    "    if row == 'unknown':\n",
    "        df['high_salary'][r] = max(np.random.randint(45000,75000,size=1)[0],df['low_salary'][r])\n",
    "        \n",
    "    df['low_salary']=df['low_salary'].astype('int32')\n",
    "    df['high_salary']= df['high_salary'].astype('int32')\n",
    "    df.loc[df['low_salary']<50, 'low_salary'] = df['low_salary']*8*200\n",
    "    df.loc[df['high_salary']<50, 'high_salary'] = df['high_salary']*8*200\n",
    "    \n",
    "    return df"
   ]
  },
  {
   "cell_type": "markdown",
   "metadata": {},
   "source": [
    "6. perform actions"
   ]
  },
  {
   "cell_type": "code",
   "execution_count": null,
   "metadata": {},
   "outputs": [],
   "source": [
    "def clean_jobs(job_name):\n",
    "    df = clean_area(df, dict_index['Admin'])\n",
    "    return df"
   ]
  },
  {
   "cell_type": "code",
   "execution_count": null,
   "metadata": {},
   "outputs": [],
   "source": [
    "df = clean_jobs('Admin')"
   ]
  }
 ],
 "metadata": {
  "kernelspec": {
   "display_name": "Python 3",
   "language": "python",
   "name": "python3"
  },
  "language_info": {
   "codemirror_mode": {
    "name": "ipython",
    "version": 3
   },
   "file_extension": ".py",
   "mimetype": "text/x-python",
   "name": "python",
   "nbconvert_exporter": "python",
   "pygments_lexer": "ipython3",
   "version": "3.8.5"
  }
 },
 "nbformat": 4,
 "nbformat_minor": 4
}
